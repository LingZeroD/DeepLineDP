{
 "cells": [
  {
   "cell_type": "code",
   "execution_count": null,
   "metadata": {
    "pycharm": {
     "name": "#%%\n",
     "is_executing": true
    }
   },
   "outputs": [],
   "source": [
    "import pandas as pd\n",
    "import numpy as np\n",
    "import subprocess, re, os, time\n",
    "\n",
    "from multiprocessing import Pool\n",
    "\n",
    "\n",
    "from tqdm import tqdm"
   ]
  },
  {
   "cell_type": "code",
   "execution_count": null,
   "metadata": {
    "pycharm": {
     "name": "#%%\n",
     "is_executing": true
    }
   },
   "outputs": [],
   "source": [
    "all_eval_releases = ['activemq-5.2.0','activemq-5.3.0','activemq-5.8.0',\n",
    "                     'camel-2.10.0','camel-2.11.0', \n",
    "                     'derby-10.5.1.1',\n",
    "                     'groovy-1_6_BETA_2', \n",
    "                     'hbase-0.95.2',\n",
    "                     'hive-0.12.0', \n",
    "                     'jruby-1.5.0','jruby-1.7.0.preview1',\n",
    "                     'lucene-3.0.0','lucene-3.1', \n",
    "                     'wicket-1.5.3']\n",
    "\n",
    "all_dataset_name = ['activemq','camel','derby','groovy','hbase','hive','jruby','lucene','wicket']\n",
    "\n",
    "base_file_dir = './ErrorProne_data/'\n",
    "base_command = \"javac -J-Xbootclasspath/p:javac-9+181-r4173-1.jar -XDcompilePolicy=simple -processorpath error_prone_core-2.4.0-with-dependencies.jar:dataflow-shaded-3.1.2.jar:jFormatString-3.0.0.jar '-Xplugin:ErrorProne -XepDisableAllChecks -Xep:CollectionIncompatibleType:ERROR' \"\n",
    "\n",
    "result_dir = './ErrorProne_result/'\n",
    "\n",
    "if not os.path.exists(result_dir):\n",
    "    os.makedirs(result_dir)\n",
    "    "
   ]
  },
  {
   "cell_type": "code",
   "execution_count": null,
   "metadata": {
    "pycharm": {
     "name": "#%%\n",
     "is_executing": true
    }
   },
   "outputs": [],
   "source": [
    "def run_ErrorProne(rel):\n",
    "    df_list = []\n",
    "    java_file_dir = base_file_dir+rel+'/'\n",
    "\n",
    "    file_list = os.listdir(java_file_dir)\n",
    "\n",
    "    for java_filename in tqdm(file_list):\n",
    "        f = open(java_file_dir+java_filename,'r',encoding='utf-8',errors='ignore')\n",
    "        java_code = f.readlines()\n",
    "\n",
    "        code_len = len(java_code)\n",
    "\n",
    "        output = subprocess.getoutput(base_command+java_file_dir+java_filename)\n",
    "\n",
    "        reported_lines = re.findall('\\d+: error:',output)\n",
    "        reported_lines = [int(l.replace(':','').replace('error','')) for l in reported_lines]\n",
    "        reported_lines = list(set(reported_lines))\n",
    "\n",
    "        line_df = pd.DataFrame()\n",
    "\n",
    "        line_df['filename'] = [java_filename.replace('_','/')]*code_len\n",
    "        line_df['test-release'] = [rel]*len(line_df)\n",
    "        line_df['line_number'] = np.arange(1,code_len+1)\n",
    "        line_df['EP_prediction_result'] = line_df['line_number'].isin(reported_lines)\n",
    "\n",
    "        df_list.append(line_df)\n",
    "\n",
    "    final_df = pd.concat(df_list)\n",
    "    final_df.to_csv(result_dir+rel+'-line-lvl-result.txt',index=False)\n",
    "    print('finished',rel)"
   ]
  },
  {
   "cell_type": "code",
   "execution_count": null,
   "metadata": {
    "pycharm": {
     "name": "#%%\n",
     "is_executing": true
    }
   },
   "outputs": [],
   "source": [
    "agents = 5\n",
    "chunksize = 8\n",
    "\n",
    "with Pool(processes=agents) as pool:\n",
    "    pool.map(run_ErrorProne, all_eval_releases, chunksize)\n"
   ]
  },
  {
   "cell_type": "code",
   "execution_count": null,
   "metadata": {
    "pycharm": {
     "name": "#%%\n",
     "is_executing": true
    }
   },
   "outputs": [],
   "source": []
  }
 ],
 "metadata": {
  "kernelspec": {
   "display_name": "Python 3",
   "language": "python",
   "name": "python3"
  },
  "language_info": {
   "codemirror_mode": {
    "name": "ipython",
    "version": 3
   },
   "file_extension": ".py",
   "mimetype": "text/x-python",
   "name": "python",
   "nbconvert_exporter": "python",
   "pygments_lexer": "ipython3",
   "version": "3.7.6"
  }
 },
 "nbformat": 4,
 "nbformat_minor": 4
}